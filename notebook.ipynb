{
 "cells": [
  {
   "cell_type": "code",
   "execution_count": null,
   "id": "9d05d774",
   "metadata": {},
   "outputs": [],
   "source": [
    "import json\n",
    "import yt_dlp"
   ]
  },
  {
   "cell_type": "code",
   "execution_count": null,
   "id": "822aafd4",
   "metadata": {},
   "outputs": [],
   "source": [
    "URL = 'https://www.youtube.com/watch?v=wQJlGHVmdrA'\n",
    "\n",
    "ydl_opts = {}\n",
    "\n",
    "with yt_dlp.YoutubeDL(ydl_opts) as ydl:\n",
    "    info = ydl.extract_info(URL, download=False)\n",
    "\n",
    "    json_info = json.dumps(ydl.sanitize_info(info))\n",
    "    print(json_info)"
   ]
  },
  {
   "cell_type": "code",
   "execution_count": null,
   "id": "50b7477a",
   "metadata": {},
   "outputs": [],
   "source": [
    "URLS = ['https://www.youtube.com/watch?v=wQJlGHVmdrA']\n",
    "\n",
    "def longer_than_a_minute(info, *, incomplete):\n",
    "    duration = info.get('duration')\n",
    "    if duration and duration < 60:\n",
    "        return 'The video is too short'\n",
    "    \n",
    "ydl_opts = {\n",
    "    'format': 'mp3/bestaudio/best',\n",
    "    'postprocessors': [{\n",
    "        'key': 'FFmpegExtractAudio',\n",
    "        'preferredcodec': 'mp3'\n",
    "    }],\n",
    "    'match_filter': longer_than_a_minute,\n",
    "}\n",
    "\n",
    "with yt_dlp.YoutubeDL(ydl_opts) as ydl:\n",
    "    ydl.download(URLS)"
   ]
  },
  {
   "cell_type": "code",
   "execution_count": null,
   "id": "591dde84",
   "metadata": {},
   "outputs": [],
   "source": [
    "import whisper\n",
    "\n",
    "audio_file = \"Vitamin D Expert： The Fastest Way To Dementia & The Big Lie About Sunlight! [wQJlGHVmdrA].mp3\"\n",
    "\n",
    "model = whisper.load_model('turbo')\n",
    "result = model.transcribe(audio_file)"
   ]
  },
  {
   "cell_type": "code",
   "execution_count": null,
   "id": "1ca1b78c",
   "metadata": {},
   "outputs": [],
   "source": [
    "import anthropic\n",
    "import dotenv\n",
    "\n",
    "dotenv.load_dotenv()\n",
    "\n",
    "client = anthropic.Anthropic()\n",
    "\n",
    "message = client.messages.create(\n",
    "    model='claude-opus-4-20250514',\n",
    "    max_tokens=1000,\n",
    "    temperature=1,\n",
    "    system='You are an expert copy-writer. Respond with simple and clean summary.',\n",
    "    messages=[\n",
    "        {\n",
    "            \"role\": \"user\",\n",
    "            \"content\": [\n",
    "                {\n",
    "                    \"type\": \"text\",\n",
    "                    \"text\": f\"Summarize the following text\\n\\n{result}\"\n",
    "                }\n",
    "            ]\n",
    "        }\n",
    "    ]\n",
    ")\n",
    "\n",
    "summary = message.content"
   ]
  }
 ],
 "metadata": {
  "kernelspec": {
   "display_name": ".venv",
   "language": "python",
   "name": "python3"
  },
  "language_info": {
   "codemirror_mode": {
    "name": "ipython",
    "version": 3
   },
   "file_extension": ".py",
   "mimetype": "text/x-python",
   "name": "python",
   "nbconvert_exporter": "python",
   "pygments_lexer": "ipython3",
   "version": "3.13.3"
  }
 },
 "nbformat": 4,
 "nbformat_minor": 5
}
