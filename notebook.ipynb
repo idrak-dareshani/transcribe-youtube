{
 "cells": [
  {
   "cell_type": "code",
   "execution_count": null,
   "id": "9d05d774",
   "metadata": {},
   "outputs": [],
   "source": [
    "import json\n",
    "import yt_dlp"
   ]
  },
  {
   "cell_type": "code",
   "execution_count": null,
   "id": "07b1f5c9",
   "metadata": {},
   "outputs": [],
   "source": [
    "url = \"https://www.youtube.com/playlist?list=PLutdSTmJ7bAKlyRliJdlAJZRF6RSIE49y\"\n",
    "\n",
    "# total 94 files\n",
    "# 6-10  [done]\n",
    "# 11-15 [done]\n",
    "# 17-21 [done]\n",
    "# 22-28 [done]\n",
    "# 32-36 [done]\n",
    "# 38-42 [done]\n",
    "# 43-47 [done]\n",
    "# 48-52 [done]\n",
    "# 53-57 [done]\n",
    "# 58-62 [done]\n",
    "# 63-67 [done]\n",
    "# 68-72 [done]\n",
    "# 73-77 [done]\n",
    "# 78-82 [done]\n",
    "# 83-85 [done]\n",
    "# 90-92 [done]\n",
    "\n",
    "ydl_opts = {\n",
    "    'format': 'bestaudio/best',\n",
    "    'outtmpl': r'D:/YouTube/%(playlist_title)s/%(title)s.%(ext)s',\n",
    "    'playlist_items': '90-92',\n",
    "    'postprocessors':[{\n",
    "        'key': 'FFmpegExtractAudio',\n",
    "        'preferredcodec': 'mp3',\n",
    "        'preferredquality': '192',\n",
    "    }]\n",
    "}\n",
    "\n",
    "with yt_dlp.YoutubeDL(ydl_opts) as ydl:\n",
    "    ydl.download([url])"
   ]
  },
  {
   "cell_type": "code",
   "execution_count": null,
   "id": "822aafd4",
   "metadata": {},
   "outputs": [],
   "source": [
    "URL = 'https://www.youtube.com/watch?v=wQJlGHVmdrA'\n",
    "\n",
    "ydl_opts = {}\n",
    "\n",
    "with yt_dlp.YoutubeDL(ydl_opts) as ydl:\n",
    "    info = ydl.extract_info(URL, download=False)\n",
    "\n",
    "    json_info = json.dumps(ydl.sanitize_info(info))\n",
    "    print(json_info)"
   ]
  },
  {
   "cell_type": "code",
   "execution_count": null,
   "id": "50b7477a",
   "metadata": {},
   "outputs": [],
   "source": [
    "URLS = ['https://www.youtube.com/watch?v=wQJlGHVmdrA']\n",
    "\n",
    "def longer_than_a_minute(info, *, incomplete):\n",
    "    duration = info.get('duration')\n",
    "    if duration and duration < 60:\n",
    "        return 'The video is too short'\n",
    "    \n",
    "ydl_opts = {\n",
    "    'format': 'mp3/bestaudio/best',\n",
    "    'postprocessors': [{\n",
    "        'key': 'FFmpegExtractAudio',\n",
    "        'preferredcodec': 'mp3'\n",
    "    }],\n",
    "    'match_filter': longer_than_a_minute,\n",
    "}\n",
    "\n",
    "with yt_dlp.YoutubeDL(ydl_opts) as ydl:\n",
    "    ydl.download(URLS)"
   ]
  },
  {
   "cell_type": "code",
   "execution_count": null,
   "id": "591dde84",
   "metadata": {},
   "outputs": [],
   "source": [
    "import transcribe as t\n",
    "\n",
    "filename = \"Surah Yusuf Part 1-2： Kitaab & Qur'an\"\n",
    "\n",
    "# === CONFIGURATION ===\n",
    "AUDIO_FILE = f\"data/{filename}.mp3\"          # Input audio file\n",
    "CHUNK_LENGTH_MIN = 15                   # Chunk duration in minutes\n",
    "OUTPUT_DIR = \"chunks\"                   # Temporary chunk storage\n",
    "TRANSCRIBER = \"faster-whisper\"          # Options: \"whisper\" or \"faster-whisper\"\n",
    "WHISPER_MODEL = \"small\"                # tiny, base, small, medium, large\n",
    "FINAL_TRANSCRIPT = f\"output/{filename}.txt\"\n",
    "\n",
    "chunks = t.split_audio(AUDIO_FILE, CHUNK_LENGTH_MIN)\n",
    "transcript = t.transcribe_chunks(chunks, TRANSCRIBER, WHISPER_MODEL)\n",
    "t.save_transcript(transcript, FINAL_TRANSCRIPT)"
   ]
  },
  {
   "cell_type": "code",
   "execution_count": null,
   "id": "1ca1b78c",
   "metadata": {},
   "outputs": [],
   "source": [
    "import anthropic\n",
    "import dotenv\n",
    "\n",
    "dotenv.load_dotenv()\n",
    "\n",
    "result = t.read_transcript(output_file=\"output/Surah Yusuf Part 1-2： Kitaab & Qur'an.txt\")\n",
    "client = anthropic.Anthropic()\n",
    "\n",
    "message = client.messages.create(\n",
    "    model='claude-opus-4-20250514',\n",
    "    max_tokens=1000,\n",
    "    temperature=1,\n",
    "    system='You are an expert copy-writer. Respond with simple and clean summary.',\n",
    "    messages=[\n",
    "        {\n",
    "            \"role\": \"user\",\n",
    "            \"content\": [\n",
    "                {\n",
    "                    \"type\": \"text\",\n",
    "                    \"text\": f\"Summarize the following text\\n\\n{result}\"\n",
    "                }\n",
    "            ]\n",
    "        }\n",
    "    ]\n",
    ")\n",
    "\n",
    "summary = message.content"
   ]
  }
 ],
 "metadata": {
  "kernelspec": {
   "display_name": ".venv",
   "language": "python",
   "name": "python3"
  },
  "language_info": {
   "codemirror_mode": {
    "name": "ipython",
    "version": 3
   },
   "file_extension": ".py",
   "mimetype": "text/x-python",
   "name": "python",
   "nbconvert_exporter": "python",
   "pygments_lexer": "ipython3",
   "version": "3.13.3"
  }
 },
 "nbformat": 4,
 "nbformat_minor": 5
}
